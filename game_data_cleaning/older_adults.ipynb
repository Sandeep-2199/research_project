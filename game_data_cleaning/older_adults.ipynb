{
 "cells": [
  {
   "cell_type": "code",
   "execution_count": null,
   "metadata": {},
   "outputs": [
    {
     "name": "stdout",
     "output_type": "stream",
     "text": [
      "Summary statistics:\n",
      "+-------+---------------------+---------------+------------+----------------+--------------+\n",
      "|       |   ParticipantNumber |   TotalTrials |   TrialNum |   ReactionTime |   FinalScore |\n",
      "|-------+---------------------+---------------+------------+----------------+--------------|\n",
      "| count |           4684      |   4684        | 4684       |       4684     |   4684       |\n",
      "| mean  |            829.55   |     30.6217   |   15.927   |        440.398 |     26.3021  |\n",
      "| std   |             31.2073 |      0.803265 |    8.92744 |        394.453 |      4.98491 |\n",
      "| min   |            792      |     30        |    1       |         -1     |     12       |\n",
      "| 25%   |            804      |     30        |    8       |         -1     |     23       |\n",
      "| 50%   |            811      |     30        |   16       |        548.5   |     27       |\n",
      "| 75%   |            859      |     31        |   24       |        727     |     30       |\n",
      "| max   |            888      |     32        |   39       |       5056     |     38       |\n",
      "+-------+---------------------+---------------+------------+----------------+--------------+\n",
      "\n",
      "Missing values:\n",
      "ParticipantNumber    0\n",
      "GameName             0\n",
      "TotalTrials          0\n",
      "TrialNum             0\n",
      "InteractionType      0\n",
      "ReactionTime         0\n",
      "FinalScore           0\n",
      "dtype: int64\n",
      "\n",
      "Data types:\n",
      "ParticipantNumber     int64\n",
      "GameName             object\n",
      "TotalTrials           int64\n",
      "TrialNum              int64\n",
      "InteractionType      object\n",
      "ReactionTime          int64\n",
      "FinalScore            int64\n",
      "dtype: object\n",
      "\n",
      "Number of unique values in 'ParticipantNumber':\n",
      "\n",
      "Number of unique values in each column:\n",
      "+-------------------+-----------------+\n",
      "| Column Name       |   Unique Values |\n",
      "+===================+=================+\n",
      "| ParticipantNumber |              30 |\n",
      "+-------------------+-----------------+\n",
      "| ReactionTime      |             756 |\n",
      "+-------------------+-----------------+\n",
      "\n",
      "Number of unique values in 'ReactionTime':\n",
      "\n",
      "Number of unique values in each column:\n",
      "+-------------------+-----------------+\n",
      "| Column Name       |   Unique Values |\n",
      "+===================+=================+\n",
      "| ParticipantNumber |              30 |\n",
      "+-------------------+-----------------+\n",
      "| ReactionTime      |             756 |\n",
      "+-------------------+-----------------+\n"
     ]
    }
   ],
   "source": [
    "import pandas as pd\n",
    "from tabulate import tabulate\n",
    "\n",
    "# Read the CSV file\n",
    "file_path = \"/Users/sandeep/Documents/RA Work/cleaned_game_dataset/Game Data_Older Adults.csv\"\n",
    "data = pd.read_csv(file_path)\n",
    " \n",
    "# Basic data analysis\n",
    "print(\"Summary statistics:\")\n",
    "print(tabulate(data.describe(), headers='keys', tablefmt='psql'))\n",
    "\n",
    "print(\"\\nMissing values:\")\n",
    "print(data.isnull().sum())\n",
    "\n",
    "print(\"\\nData types:\")\n",
    "print(data.dtypes)\n",
    "\n",
    "# Example of a simple analysis: count the number of unique values in a column\n",
    "column_names = ['ParticipantNumber', 'ReactionTime']  \n",
    "for column_name in column_names:\n",
    "    print(f\"\\nNumber of unique values in '{column_name}':\")\n",
    "    unique_values = []\n",
    "    for column_name in column_names:\n",
    "        unique_values.append([column_name, data[column_name].nunique()])\n",
    "\n",
    "    print(\"\\nNumber of unique values in each column:\")\n",
    "    print(tabulate(unique_values, headers=[\"Column Name\", \"Unique Values\"], tablefmt=\"grid\"))"
   ]
  },
  {
   "cell_type": "code",
   "execution_count": null,
   "metadata": {},
   "outputs": [
    {
     "name": "stdout",
     "output_type": "stream",
     "text": [
      "Summary statistics:\n",
      "+-------+---------------------+---------------+------------+----------------+--------------+\n",
      "|       |   ParticipantNumber |   TotalTrials |   TrialNum |   ReactionTime |   FinalScore |\n",
      "|-------+---------------------+---------------+------------+----------------+--------------|\n",
      "| count |           4684      |   4684        | 4684       |       4684     |   4684       |\n",
      "| mean  |            829.55   |     30.6217   |   15.927   |        440.398 |     26.3021  |\n",
      "| std   |             31.2073 |      0.803265 |    8.92744 |        394.453 |      4.98491 |\n",
      "| min   |            792      |     30        |    1       |         -1     |     12       |\n",
      "| 25%   |            804      |     30        |    8       |         -1     |     23       |\n",
      "| 50%   |            811      |     30        |   16       |        548.5   |     27       |\n",
      "| 75%   |            859      |     31        |   24       |        727     |     30       |\n",
      "| max   |            888      |     32        |   39       |       5056     |     38       |\n",
      "+-------+---------------------+---------------+------------+----------------+--------------+\n",
      "\n",
      "Missing values:\n",
      "ParticipantNumber    0\n",
      "GameName             0\n",
      "TotalTrials          0\n",
      "TrialNum             0\n",
      "InteractionType      0\n",
      "ReactionTime         0\n",
      "FinalScore           0\n",
      "dtype: int64\n",
      "\n",
      "Data types:\n",
      "ParticipantNumber     int64\n",
      "GameName             object\n",
      "TotalTrials           int64\n",
      "TrialNum              int64\n",
      "InteractionType      object\n",
      "ReactionTime          int64\n",
      "FinalScore            int64\n",
      "dtype: object\n"
     ]
    }
   ],
   "source": [
    "# Basic data analysis\n",
    "print(\"Summary statistics:\")\n",
    "print(tabulate(data.describe(), headers='keys', tablefmt='psql'))\n",
    "\n",
    "print(\"\\nMissing values:\")\n",
    "print(data.isnull().sum())\n",
    "\n",
    "print(\"\\nData types:\")\n",
    "print(data.dtypes)\n"
   ]
  },
  {
   "cell_type": "code",
   "execution_count": 4,
   "metadata": {},
   "outputs": [
    {
     "name": "stdout",
     "output_type": "stream",
     "text": [
      "\n",
      "Number of unique values in 'ParticipantNumber':\n",
      "\n",
      "Number of unique values in each column:\n",
      "+-------------------+-----------------+\n",
      "| Column Name       |   Unique Values |\n",
      "+===================+=================+\n",
      "| ParticipantNumber |              30 |\n",
      "+-------------------+-----------------+\n",
      "| ReactionTime      |             756 |\n",
      "+-------------------+-----------------+\n",
      "\n",
      "Number of unique values in 'ReactionTime':\n",
      "\n",
      "Number of unique values in each column:\n",
      "+-------------------+-----------------+\n",
      "| Column Name       |   Unique Values |\n",
      "+===================+=================+\n",
      "| ParticipantNumber |              30 |\n",
      "+-------------------+-----------------+\n",
      "| ReactionTime      |             756 |\n",
      "+-------------------+-----------------+\n"
     ]
    }
   ],
   "source": [
    "# Example of a simple analysis: count the number of unique values in a column\n",
    "column_names = ['ParticipantNumber', 'ReactionTime']  \n",
    "for column_name in column_names:\n",
    "    print(f\"\\nNumber of unique values in '{column_name}':\")\n",
    "    unique_values = []\n",
    "    for column_name in column_names:\n",
    "        unique_values.append([column_name, data[column_name].nunique()])\n",
    "\n",
    "    print(\"\\nNumber of unique values in each column:\")\n",
    "    print(tabulate(unique_values, headers=[\"Column Name\", \"Unique Values\"], tablefmt=\"grid\"))"
   ]
  },
  {
   "cell_type": "code",
   "execution_count": 8,
   "metadata": {},
   "outputs": [
    {
     "name": "stdout",
     "output_type": "stream",
     "text": [
      "\n",
      "Number of correct rejections and misses based on game and interaction type:\n",
      "+----+------------------+-------------------+---------+\n",
      "|    | GameName         | InteractionType   |   Count |\n",
      "|----+------------------+-------------------+---------|\n",
      "|  0 | TagMeAgainEasy   | correct rejection |     672 |\n",
      "|  2 | TagMeAgainMedium | correct rejection |     621 |\n",
      "|  4 | TagMeOnly        | correct rejection |     255 |\n",
      "|  6 | TagMeQuick       | miss              |     126 |\n",
      "|  3 | TagMeAgainMedium | miss              |      75 |\n",
      "|  5 | TagMeOnly        | miss              |      43 |\n",
      "|  1 | TagMeAgainEasy   | miss              |      32 |\n",
      "+----+------------------+-------------------+---------+\n",
      "\n",
      "Number of correct hit, bad hit and false alarms based on game and interaction type:\n",
      "+----+------------------+-------------------+---------+\n",
      "|    | GameName         | InteractionType   |   Count |\n",
      "|----+------------------+-------------------+---------|\n",
      "|  0 | TagMeAgainEasy   | correct rejection |     672 |\n",
      "|  2 | TagMeAgainMedium | correct rejection |     621 |\n",
      "|  4 | TagMeOnly        | correct rejection |     255 |\n",
      "|  6 | TagMeQuick       | miss              |     126 |\n",
      "|  3 | TagMeAgainMedium | miss              |      75 |\n",
      "|  5 | TagMeOnly        | miss              |      43 |\n",
      "|  1 | TagMeAgainEasy   | miss              |      32 |\n",
      "+----+------------------+-------------------+---------+\n"
     ]
    }
   ],
   "source": [
    "#based on games and interaction types find the number of correct rejections and misses\n",
    "correct_rejection = data[(data['InteractionType'] == 'correct rejection') | (data['InteractionType'] == 'miss')]\n",
    "correct_rejection = correct_rejection.groupby(['GameName', 'InteractionType']).size().reset_index(name='Count')\n",
    "print(\"\\nNumber of correct rejections and misses based on game and interaction type:\")\n",
    "correct_rejection = correct_rejection.sort_values(by='Count', ascending=False)\n",
    "print(tabulate(correct_rejection, headers=\"keys\", tablefmt=\"psql\"))\n",
    "\n",
    "#based on games and interaction types find the number of false alarms\n",
    "false_alarm = data[(data['InteractionType'] == 'correct hit') | (data['InteractionType'] == 'bad hit') | (data['InteractionType'] == 'false alarm')]\n",
    "false_alarm = false_alarm.groupby(['GameName', 'InteractionType']).size().reset_index(name='Count')\n",
    "false_alarm = correct_rejection.sort_values(by='Count', ascending=False)\n",
    "print(\"\\nNumber of correct hit, bad hit and false alarms based on game and interaction type:\")\n",
    "print(tabulate(false_alarm, headers=\"keys\", tablefmt=\"psql\"))\n"
   ]
  },
  {
   "cell_type": "code",
   "execution_count": 11,
   "metadata": {},
   "outputs": [
    {
     "name": "stdout",
     "output_type": "stream",
     "text": [
      "\n",
      "Highest final score based on game name:\n",
      "+----+------------------+--------------+\n",
      "|    | GameName         |   FinalScore |\n",
      "|----+------------------+--------------|\n",
      "|  0 | TagMeAgainEasy   |           38 |\n",
      "|  1 | TagMeAgainMedium |           37 |\n",
      "|  4 | TagMeQuick       |           36 |\n",
      "|  3 | TagMeOnly        |           35 |\n",
      "|  2 | TagMeBigger      |           30 |\n",
      "+----+------------------+--------------+\n"
     ]
    }
   ],
   "source": [
    "# Highest final score based on game name\n",
    "highest_final_score = data.groupby('GameName')['FinalScore'].max().reset_index()\n",
    "highest_final_score = highest_final_score.sort_values(by='FinalScore', ascending=False)\n",
    "print(\"\\nHighest final score based on game name:\")\n",
    "print(tabulate(highest_final_score, headers=\"keys\", tablefmt=\"psql\"))\n"
   ]
  },
  {
   "cell_type": "code",
   "execution_count": null,
   "metadata": {},
   "outputs": [],
   "source": []
  }
 ],
 "metadata": {
  "kernelspec": {
   "display_name": "research",
   "language": "python",
   "name": "python3"
  },
  "language_info": {
   "codemirror_mode": {
    "name": "ipython",
    "version": 3
   },
   "file_extension": ".py",
   "mimetype": "text/x-python",
   "name": "python",
   "nbconvert_exporter": "python",
   "pygments_lexer": "ipython3",
   "version": "3.13.2"
  }
 },
 "nbformat": 4,
 "nbformat_minor": 2
}
