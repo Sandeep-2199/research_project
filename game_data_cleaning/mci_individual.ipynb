{
 "cells": [
  {
   "cell_type": "code",
   "execution_count": 5,
   "metadata": {},
   "outputs": [],
   "source": [
    "import pandas as pd\n",
    "from tabulate import tabulate\n",
    "\n",
    "# Read the CSV file\n",
    "file_path = \"/Users/sandeep/Documents/RA Work/cleaned_game_dataset/Game Data_MCI Individuals.csv\"\n",
    "data = pd.read_csv(file_path)"
   ]
  },
  {
   "cell_type": "code",
   "execution_count": 4,
   "metadata": {},
   "outputs": [
    {
     "name": "stdout",
     "output_type": "stream",
     "text": [
      "+----+---------------------+----------------+---------------+------------+-------------------+----------------+--------------+\n",
      "|    |   ParticipantNumber | GameName       |   TotalTrials |   TrialNum | InteractionType   |   ReactionTime |   FinalScore |\n",
      "|----+---------------------+----------------+---------------+------------+-------------------+----------------+--------------|\n",
      "|  0 |                 922 | TagMeAgainEasy |            31 |          1 | correct rejection |             -1 |           28 |\n",
      "|  1 |                 922 | TagMeAgainEasy |            31 |          2 | miss              |             -1 |           28 |\n",
      "|  2 |                 922 | TagMeAgainEasy |            31 |          3 | false alarm       |            316 |           28 |\n",
      "|  3 |                 922 | TagMeAgainEasy |            31 |          4 | correct rejection |             -1 |           28 |\n",
      "|  4 |                 922 | TagMeAgainEasy |            31 |          5 | correct rejection |             -1 |           28 |\n",
      "+----+---------------------+----------------+---------------+------------+-------------------+----------------+--------------+\n",
      "Summary statistics:\n",
      "+-------+---------------------+---------------+------------+----------------+--------------+\n",
      "|       |   ParticipantNumber |   TotalTrials |   TrialNum |   ReactionTime |   FinalScore |\n",
      "|-------+---------------------+---------------+------------+----------------+--------------|\n",
      "| count |           929       |    929        |  929       |        929     |    929       |\n",
      "| mean  |           917.461   |     30.267    |   16.0301  |        474.975 |     25.7384  |\n",
      "| std   |             3.09282 |      0.442606 |    9.02864 |        357.91  |      5.98178 |\n",
      "| min   |           912       |     30        |    1       |         -1     |      8       |\n",
      "| 25%   |           914       |     30        |    8       |         -1     |     22       |\n",
      "| 50%   |           918       |     30        |   16       |        580     |     26       |\n",
      "| 75%   |           920       |     31        |   24       |        740     |     29       |\n",
      "| max   |           922       |     31        |   37       |       1952     |     38       |\n",
      "+-------+---------------------+---------------+------------+----------------+--------------+\n",
      "\n",
      "Missing values:\n",
      "ParticipantNumber    0\n",
      "GameName             0\n",
      "TotalTrials          0\n",
      "TrialNum             0\n",
      "InteractionType      0\n",
      "ReactionTime         0\n",
      "FinalScore           0\n",
      "dtype: int64\n",
      "\n",
      "Data types:\n",
      "ParticipantNumber     int64\n",
      "GameName             object\n",
      "TotalTrials           int64\n",
      "TrialNum              int64\n",
      "InteractionType      object\n",
      "ReactionTime          int64\n",
      "FinalScore            int64\n",
      "dtype: object\n"
     ]
    }
   ],
   "source": [
    "\n",
    "# Display the first few rows of the dataframe\n",
    "print(tabulate(data.head(), headers='keys', tablefmt='psql'))\n",
    " \n",
    "# Basic data analysis\n",
    "print(\"Summary statistics:\")\n",
    "print(tabulate(data.describe(), headers='keys', tablefmt='psql'))\n",
    "\n",
    "print(\"\\nMissing values:\")\n",
    "print(data.isnull().sum())\n",
    "\n",
    "print(\"\\nData types:\")\n",
    "print(data.dtypes)\n"
   ]
  },
  {
   "cell_type": "code",
   "execution_count": 18,
   "metadata": {},
   "outputs": [
    {
     "name": "stdout",
     "output_type": "stream",
     "text": [
      "\n",
      "Number of unique values in each column:\n",
      "+----+-------------------+-----------------+\n",
      "|    | Column Name       |   Unique Values |\n",
      "|----+-------------------+-----------------|\n",
      "|  0 | ParticipantNumber |               7 |\n",
      "|  1 | ReactionTime      |             383 |\n",
      "+----+-------------------+-----------------+\n"
     ]
    }
   ],
   "source": [
    "# Example of a simple analysis: count the number of unique values in a column\n",
    "column_names = ['ParticipantNumber', 'ReactionTime']  \n",
    "unique_values = []\n",
    "\n",
    "for column_name in column_names:\n",
    "    unique_values.append([column_name, data[column_name].nunique()])\n",
    "\n",
    "unique_values_df = pd.DataFrame(unique_values, columns=[\"Column Name\", \"Unique Values\"])\n",
    "\n",
    "print(\"\\nNumber of unique values in each column:\")\n",
    "print(tabulate(unique_values_df, headers=\"keys\", tablefmt=\"psql\"))"
   ]
  },
  {
   "cell_type": "code",
   "execution_count": 17,
   "metadata": {},
   "outputs": [
    {
     "name": "stdout",
     "output_type": "stream",
     "text": [
      "\n",
      "Number of unique values in each column:\n",
      "+----+-----------------------+\n",
      "|    | Distinct Game Names   |\n",
      "|----+-----------------------|\n",
      "|  0 | TagMeAgainEasy        |\n",
      "|  1 | TagMeBigger           |\n",
      "|  2 | TagMeOnly             |\n",
      "|  3 | TagMeQuick            |\n",
      "+----+-----------------------+\n"
     ]
    }
   ],
   "source": [
    "#distinct game names\n",
    "distinct_game_names = data['GameName'].unique()\n",
    "print(\"\\nNumber of unique values in each column:\")\n",
    "distinct_game_names_df = pd.DataFrame(distinct_game_names,columns=['Distinct Game Names'])\n",
    "print(tabulate( distinct_game_names_df,headers=[\"Distinct Game Names\"], tablefmt=\"psql\"))"
   ]
  },
  {
   "cell_type": "code",
   "execution_count": 22,
   "metadata": {},
   "outputs": [
    {
     "name": "stdout",
     "output_type": "stream",
     "text": [
      "\n",
      "Number of unique values in each column:\n",
      "+----+------------------------------+\n",
      "|    | Distinct Interaction Types   |\n",
      "|----+------------------------------|\n",
      "|  0 | correct rejection            |\n",
      "|  1 | miss                         |\n",
      "|  2 | false alarm                  |\n",
      "|  3 | correct hit                  |\n",
      "|  4 | bad hit                      |\n",
      "+----+------------------------------+\n"
     ]
    }
   ],
   "source": [
    "#distinct interaction types\n",
    "distinct_interaction_types = data['InteractionType'].unique()\n",
    "print(\"\\nNumber of unique values in each column:\")\n",
    "distinct_interation_types_df = pd.DataFrame(distinct_interaction_types,columns = ['distinct interaction types'])\n",
    "print(tabulate(distinct_interation_types_df,headers=[\"Distinct Interaction Types\"], tablefmt=\"psql\"))"
   ]
  },
  {
   "cell_type": "code",
   "execution_count": 30,
   "metadata": {},
   "outputs": [
    {
     "name": "stdout",
     "output_type": "stream",
     "text": [
      "\n",
      "Number of correct rejections and misses based on game and interaction type:\n",
      "+----+----------------+-------------------+---------+\n",
      "|    | GameName       | InteractionType   |   Count |\n",
      "|----+----------------+-------------------+---------|\n",
      "|  0 | TagMeAgainEasy | correct rejection |     166 |\n",
      "|  2 | TagMeOnly      | correct rejection |      61 |\n",
      "|  4 | TagMeQuick     | miss              |      39 |\n",
      "|  1 | TagMeAgainEasy | miss              |      15 |\n",
      "|  3 | TagMeOnly      | miss              |      11 |\n",
      "+----+----------------+-------------------+---------+\n",
      "\n",
      "Number of correct hit, bad hit and false alarms based on game and interaction type:\n",
      "+----+----------------+-------------------+---------+\n",
      "|    | GameName       | InteractionType   |   Count |\n",
      "|----+----------------+-------------------+---------|\n",
      "|  0 | TagMeAgainEasy | correct rejection |     166 |\n",
      "|  2 | TagMeOnly      | correct rejection |      61 |\n",
      "|  4 | TagMeQuick     | miss              |      39 |\n",
      "|  1 | TagMeAgainEasy | miss              |      15 |\n",
      "|  3 | TagMeOnly      | miss              |      11 |\n",
      "+----+----------------+-------------------+---------+\n"
     ]
    }
   ],
   "source": [
    "#based on games and interaction types find the number of correct rejections and misses\n",
    "correct_rejection = data[(data['InteractionType'] == 'correct rejection') | (data['InteractionType'] == 'miss')]\n",
    "correct_rejection = correct_rejection.groupby(['GameName', 'InteractionType']).size().reset_index(name='Count')\n",
    "print(\"\\nNumber of correct rejections and misses based on game and interaction type:\")\n",
    "correct_rejection = correct_rejection.sort_values(by='Count', ascending=False)\n",
    "print(tabulate(correct_rejection, headers=\"keys\", tablefmt=\"psql\"))\n",
    "\n",
    "#based on games and interaction types find the number of false alarms\n",
    "false_alarm = data[(data['InteractionType'] == 'correct hit') | (data['InteractionType'] == 'bad hit') | (data['InteractionType'] == 'false alarm')]\n",
    "false_alarm = false_alarm.groupby(['GameName', 'InteractionType']).size().reset_index(name='Count')\n",
    "false_alarm = correct_rejection.sort_values(by='Count', ascending=False)\n",
    "print(\"\\nNumber of correct hit, bad hit and false alarms based on game and interaction type:\")\n",
    "print(tabulate(false_alarm, headers=\"keys\", tablefmt=\"psql\"))\n"
   ]
  },
  {
   "cell_type": "code",
   "execution_count": 34,
   "metadata": {},
   "outputs": [
    {
     "name": "stdout",
     "output_type": "stream",
     "text": [
      "\n",
      "Highest final score based on game name:\n",
      "+----+----------------+--------------+\n",
      "|    | GameName       |   FinalScore |\n",
      "|----+----------------+--------------|\n",
      "|  2 | TagMeOnly      |           38 |\n",
      "|  0 | TagMeAgainEasy |           35 |\n",
      "|  3 | TagMeQuick     |           33 |\n",
      "|  1 | TagMeBigger    |           30 |\n",
      "+----+----------------+--------------+\n"
     ]
    }
   ],
   "source": [
    "# Highest final score based on game name\n",
    "highest_final_score = data.groupby('GameName')['FinalScore'].max().reset_index()\n",
    "highest_final_score = highest_final_score.sort_values(by='FinalScore', ascending=False)\n",
    "print(\"\\nHighest final score based on game name:\")\n",
    "print(tabulate(highest_final_score, headers=\"keys\", tablefmt=\"psql\"))\n"
   ]
  },
  {
   "cell_type": "code",
   "execution_count": null,
   "metadata": {},
   "outputs": [],
   "source": []
  }
 ],
 "metadata": {
  "kernelspec": {
   "display_name": "Python 3",
   "language": "python",
   "name": "python3"
  },
  "language_info": {
   "codemirror_mode": {
    "name": "ipython",
    "version": 3
   },
   "file_extension": ".py",
   "mimetype": "text/x-python",
   "name": "python",
   "nbconvert_exporter": "python",
   "pygments_lexer": "ipython3",
   "version": "3.12.1"
  }
 },
 "nbformat": 4,
 "nbformat_minor": 2
}
